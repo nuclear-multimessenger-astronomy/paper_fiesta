{
 "cells": [
  {
   "cell_type": "code",
   "execution_count": 1,
   "id": "d6592c4b",
   "metadata": {},
   "outputs": [],
   "source": [
    "from ast import literal_eval\n",
    "import matplotlib.pyplot as plt\n",
    "\n",
    "with open(\"./data/param_dict.dat\", \"r\") as f:\n",
    "    params = f.read()\n",
    "params = literal_eval(params)\n",
    "params[\"timeshift\"] = 0.\n",
    "params[\"em_syserr\"] = 0.3\n",
    "params[\"sys_err\"] = 0.3"
   ]
  },
  {
   "cell_type": "markdown",
   "id": "77656ec3",
   "metadata": {},
   "source": [
    "# NMMA"
   ]
  },
  {
   "cell_type": "code",
   "execution_count": 2,
   "id": "ebb140bf",
   "metadata": {},
   "outputs": [
    {
     "name": "stdout",
     "output_type": "stream",
     "text": [
      "Install keras if you want to use machine-learning surrogates for the EOS or KN models.\n",
      "Install afterglowpy if you want to simulate afterglows.\n",
      "Install wrapt_timeout_decorator if you want timeout simulations.\n"
     ]
    },
    {
     "name": "stderr",
     "output_type": "stream",
     "text": [
      "/home/enlil/hkoehn/miniconda3/envs/nmma_x_fiesta/lib/python3.11/site-packages/tqdm/auto.py:21: TqdmWarning: IProgress not found. Please update jupyter and ipywidgets. See https://ipywidgets.readthedocs.io/en/stable/user_install.html\n",
      "  from .autonotebook import tqdm as notebook_tqdm\n",
      "11:19 fiesta INFO    : Loading surrogate afgpy_gaussian_CVAE. This surrogate should only be used in the following parameter ranges:\n",
      "11:19 fiesta INFO    : \t inclination_EM: (0, 1.5707963267948966)\n",
      "11:19 fiesta INFO    : \t log10_E0: (47, 57)\n",
      "11:19 fiesta INFO    : \t thetaCore: (0.01, 0.6283185307179586)\n",
      "11:19 fiesta INFO    : \t alphaWing: (0.2, 3.5)\n",
      "11:19 fiesta INFO    : \t log10_n0: (-6, 2)\n",
      "11:19 fiesta INFO    : \t p: (2.01, 3)\n",
      "11:19 fiesta INFO    : \t log10_epsilon_e: (-4, 0)\n",
      "11:19 fiesta INFO    : \t log10_epsilon_B: (-8, 0)\n",
      "11:19 fiesta INFO    : Surrogate afgpy_gaussian_CVAE is loading with the following filters: ['besselli'].\n",
      "11:19 fiesta INFO    : Loaded for surrogate afgpy_gaussian_CVAE from /nfs/aya/work/hkoehn/fiesta/fiesta/surrogates/GRB/afgpy_gaussian_CVAE/model.\n"
     ]
    }
   ],
   "source": [
    "import os\n",
    "import types\n",
    "\n",
    "import numpy as np\n",
    "\n",
    "import bilby\n",
    "from bilby.gw.prior import Uniform, Constraint, PriorDict\n",
    "\n",
    "from nmma.em.io import loadEvent\n",
    "from nmma.em.model import GRBLightCurveModel\n",
    "from nmma.em.em_likelihood import EMTransientLikelihood\n",
    "from nmma.joint.conversion import distance_modulus_nmma\n",
    "\n",
    "from fiesta.inference.lightcurve_model import AfterglowFlux\n",
    "\n",
    "########\n",
    "# DATA #\n",
    "########\n",
    "\n",
    "nmma_data = loadEvent(\"./data/injection_afterglowpy_gaussian.dat\")\n",
    "trigger_time = 58849\n",
    "FILTERS = [\"besselli\"] # list(nmma_data.keys())\n",
    "\n",
    "#########\n",
    "# MODEL #\n",
    "#########\n",
    "\n",
    "def nmma_conversion_function(sample):\n",
    "    converted_sample = sample\n",
    "    converted_sample[\"thetaWing\"] = converted_sample[\"thetaCore\"] * converted_sample[\"alphaWing\"]\n",
    "    converted_sample[\"epsilon_tot\"] = 10**(converted_sample[\"log10_epsilon_B\"]) + 10**(converted_sample[\"log10_epsilon_e\"]) \n",
    "    return converted_sample, [\"epsilon_tot\", \"thetaWing\"]\n",
    "\n",
    "model = AfterglowFlux(name=\"afgpy_gaussian_CVAE\",\n",
    "                      filters = FILTERS)\n",
    "\n",
    "def generate_lightcurve(self, sample_times, parameters):\n",
    "    t, mag = self.predict(parameters)\n",
    "    \n",
    "    d_lum = parameters.get(\"luminosity_distance\", 1e-5) ## default 10pc = 1e-5 Mpc\n",
    "    distance_modulus = distance_modulus_nmma(d_lum)\n",
    "    \n",
    "    for key in mag.keys():\n",
    "        mag[key] = np.interp(sample_times, t, mag[key] - distance_modulus)\n",
    "\n",
    "    return np.ones(len(sample_times)), mag\n",
    "\n",
    "model.generate_lightcurve = types.MethodType(generate_lightcurve, model)\n",
    "\n",
    "#########\n",
    "# PRIOR #\n",
    "#########\n",
    "\n",
    "inclination_EM = Uniform(minimum=0.0, maximum=np.pi/2, name='inclination_EM')\n",
    "log10_E0 = Uniform(minimum=47.0, maximum=57.0, name='log10_E0')\n",
    "alphaWing = Uniform(minimum=0.2, maximum=3.4, name = 'alphaWing')\n",
    "thetaCore = Uniform(minimum=0.01, maximum=np.pi/5, name='thetaCore')\n",
    "log10_n0 = Uniform(minimum=-6.0, maximum=2.0, name='log10_n0')\n",
    "p = Uniform(minimum=2.01, maximum=3.0, name='p')\n",
    "log10_epsilon_e = Uniform(minimum=-4.0, maximum=0.0, name='log10_epsilon_e')\n",
    "log10_epsilon_B = Uniform(minimum=-8.0, maximum=0.0, name='log10_epsilon_B')\n",
    "thetaWing = Constraint(minimum=0, maximum=np.pi/2, name='thetaWing')\n",
    "epsilon_tot = Constraint(minimum=0, maximum=1, name='epsilon_tot')\n",
    "em_syserr = Uniform(minimum=0.3, maximum=1, name='em_syserr')\n",
    "\n",
    "luminosity_distance = 40.0\n",
    "redshift = 0.\n",
    "timeshift = 0.\n",
    "\n",
    "prior_dict = dict(inclination_EM = inclination_EM, \n",
    "              log10_E0 = log10_E0, \n",
    "              thetaCore = thetaCore, \n",
    "              alphaWing = alphaWing,\n",
    "              log10_n0 = log10_n0, \n",
    "              p = p, \n",
    "              log10_epsilon_e = log10_epsilon_e, \n",
    "              log10_epsilon_B = log10_epsilon_B,\n",
    "              luminosity_distance = luminosity_distance, \n",
    "              redshift = redshift,\n",
    "              timeshift = timeshift,\n",
    "              thetaWing = thetaWing,\n",
    "              epsilon_tot = epsilon_tot,\n",
    "              em_syserr = em_syserr,\n",
    ")\n",
    "\n",
    "nmma_priors = PriorDict(dictionary = prior_dict, conversion_function = lambda x: nmma_conversion_function(x)[0])\n",
    "\n",
    "\n",
    "\n",
    "likelihood_kwargs = dict(\n",
    "    light_curve_model=model,\n",
    "    light_curve_data=nmma_data,\n",
    "    filters = FILTERS,\n",
    "    trigger_time = trigger_time,\n",
    "    tmin=1e-2,\n",
    "    tmax = 200.0,\n",
    "    priors=nmma_priors)\n",
    "\n",
    "nmma_likelihood = EMTransientLikelihood(**likelihood_kwargs)"
   ]
  },
  {
   "cell_type": "markdown",
   "id": "b63976f3",
   "metadata": {},
   "source": [
    "# fiesta"
   ]
  },
  {
   "cell_type": "code",
   "execution_count": 3,
   "id": "f6dcb43f",
   "metadata": {},
   "outputs": [
    {
     "name": "stderr",
     "output_type": "stream",
     "text": [
      "11:19 fiesta INFO    : Loading surrogate afgpy_gaussian_CVAE. This surrogate should only be used in the following parameter ranges:\n",
      "11:19 fiesta INFO    : \t inclination_EM: (0, 1.5707963267948966)\n",
      "11:19 fiesta INFO    : \t log10_E0: (47, 57)\n",
      "11:19 fiesta INFO    : \t thetaCore: (0.01, 0.6283185307179586)\n",
      "11:19 fiesta INFO    : \t alphaWing: (0.2, 3.5)\n",
      "11:19 fiesta INFO    : \t log10_n0: (-6, 2)\n",
      "11:19 fiesta INFO    : \t p: (2.01, 3)\n",
      "11:19 fiesta INFO    : \t log10_epsilon_e: (-4, 0)\n",
      "11:19 fiesta INFO    : \t log10_epsilon_B: (-8, 0)\n",
      "11:19 fiesta INFO    : Surrogate afgpy_gaussian_CVAE is loading with the following filters: ['besselli'].\n",
      "11:19 fiesta INFO    : Loaded for surrogate afgpy_gaussian_CVAE from /nfs/aya/work/hkoehn/fiesta/fiesta/surrogates/GRB/afgpy_gaussian_CVAE/model.\n",
      "11:19 fiesta INFO    : Loading and preprocessing observations in likelihood . . .\n",
      "11:19 fiesta INFO    : No detection limit is given. Putting it to infinity.\n",
      "11:19 fiesta INFO    : Converting error budget to dictionary.\n",
      "11:19 fiesta INFO    : Loading and preprocessing observations in likelihood . . . DONE\n"
     ]
    }
   ],
   "source": [
    "import os\n",
    "\n",
    "import numpy as np\n",
    "import jax\n",
    "import jax.numpy as jnp\n",
    "\n",
    "from fiesta.inference.prior import Uniform, Constraint, LogUniform\n",
    "from fiesta.inference.prior_dict import ConstrainedPrior\n",
    "from fiesta.inference.likelihood import EMLikelihood\n",
    "from fiesta.inference.lightcurve_model import AfterglowFlux\n",
    "from fiesta.utils import load_event_data\n",
    "\n",
    "\n",
    "\n",
    "\n",
    "########\n",
    "# DATA #\n",
    "########\n",
    "\n",
    "fiesta_data = load_event_data(\"./data/injection_afterglowpy_gaussian.dat\")\n",
    "trigger_time = 58849\n",
    "FILTERS = [\"besselli\"] #fiesta_data.keys()\n",
    "\n",
    "#########\n",
    "# MODEL #\n",
    "#########\n",
    "\n",
    "model = AfterglowFlux(name=\"afgpy_gaussian_CVAE\",\n",
    "                      filters = FILTERS)\n",
    "\n",
    "\n",
    "#########\n",
    "# PRIOR #\n",
    "#########\n",
    "\n",
    "inclination_EM = Uniform(xmin=0.0, xmax=np.pi/2, naming=['inclination_EM'])\n",
    "log10_E0 = Uniform(xmin=47.0, xmax=57.0, naming=['log10_E0'])\n",
    "thetaCore = Uniform(xmin=0.01, xmax=np.pi/5, naming=['thetaCore'])\n",
    "alphaWing = Uniform(xmin = 0.2, xmax = 3.5, naming= [\"alphaWing\"])\n",
    "thetaWing = Constraint(xmin = 0, xmax = np.pi/2, naming = [\"thetaWing\"])\n",
    "log10_n0 = Uniform(xmin=-6.0, xmax=2.0, naming=['log10_n0'])\n",
    "p = Uniform(xmin=2.01, xmax=3.0, naming=['p'])\n",
    "log10_epsilon_e = Uniform(xmin=-4.0, xmax=0.0, naming=['log10_epsilon_e'])\n",
    "log10_epsilon_B = Uniform(xmin=-8.0, xmax=0.0, naming=['log10_epsilon_B'])\n",
    "epsilon_tot = Constraint(xmin = 0., xmax = 1., naming=[\"epsilon_tot\"])\n",
    "sys_err = Uniform(xmin=0.3, xmax=1.0, naming=[\"sys_err\"])\n",
    "\n",
    "def fiesta_conversion_function(sample):\n",
    "    converted_sample = sample\n",
    "    converted_sample[\"thetaWing\"] = converted_sample[\"thetaCore\"] * converted_sample[\"alphaWing\"]\n",
    "    converted_sample[\"epsilon_tot\"] = 10**(converted_sample[\"log10_epsilon_B\"]) + 10**(converted_sample[\"log10_epsilon_e\"]) \n",
    "    return converted_sample\n",
    "\n",
    "prior_list = [inclination_EM, \n",
    "              log10_E0, \n",
    "              thetaCore,\n",
    "              alphaWing,\n",
    "              log10_n0, \n",
    "              p, \n",
    "              log10_epsilon_e, \n",
    "              log10_epsilon_B,\n",
    "              thetaWing,\n",
    "              sys_err,\n",
    "              epsilon_tot]\n",
    "\n",
    "fiesta_prior = ConstrainedPrior(prior_list, fiesta_conversion_function)\n",
    "\n",
    "################\n",
    "# LIKELIHOOD & #\n",
    "# SAMPLING     #\n",
    "################\n",
    "  \n",
    "  \n",
    "detection_limit = None\n",
    "fiesta_likelihood = EMLikelihood(model,\n",
    "                          fiesta_data,\n",
    "                          FILTERS,\n",
    "                          tmin=1e-2, \n",
    "                          tmax = 200.0,\n",
    "                          trigger_time=trigger_time,\n",
    "                          detection_limit = detection_limit,\n",
    "                          fixed_params={\"luminosity_distance\": 40.0, \"redshift\": 0.0}\n",
    "                          )\n",
    "\n",
    "fiesta_likelihood._setup_sys_uncertainty(\"free\")"
   ]
  },
  {
   "cell_type": "code",
   "execution_count": 4,
   "id": "7e6975f0",
   "metadata": {},
   "outputs": [
    {
     "name": "stdout",
     "output_type": "stream",
     "text": [
      "{'besselli': Array([11.313233, 11.466646, 12.370779, 13.70109 , 15.911467, 16.197222,\n",
      "       17.173655, 17.70843 , 17.818977, 18.320227, 19.641937, 19.95587 ,\n",
      "       21.114216, 21.889973, 24.448864, 25.852394, 26.452423, 26.55966 ],      dtype=float32)}\n"
     ]
    },
    {
     "data": {
      "text/plain": [
       "Array(3.3693666, dtype=float32)"
      ]
     },
     "execution_count": 4,
     "metadata": {},
     "output_type": "execute_result"
    }
   ],
   "source": [
    "fiesta_likelihood.evaluate(params)"
   ]
  },
  {
   "cell_type": "code",
   "execution_count": 8,
   "id": "ba3bbb1a",
   "metadata": {},
   "outputs": [
    {
     "data": {
      "text/plain": [
       "-4.291248952936134"
      ]
     },
     "execution_count": 8,
     "metadata": {},
     "output_type": "execute_result"
    }
   ],
   "source": [
    "nmma_likelihood.parameters = params\n",
    "nmma_likelihood.log_likelihood()"
   ]
  },
  {
   "cell_type": "code",
   "execution_count": null,
   "id": "21c6ef7e",
   "metadata": {},
   "outputs": [],
   "source": [
    "_, model_mags = nmma_likelihood.sub_model.light_curve_model.generate_lightcurve(\n",
    "            nmma_likelihood.sub_model.sample_times, params\n",
    "        )\n",
    "\n",
    "model_time, model_mag = nmma_likelihood.sub_model.update_lightcurve_reference(_, model_mags)[\"besselli\"]\n",
    "\n",
    "from nmma.em.utils import autocomplete_data\n",
    "est_mag = autocomplete_data(nmma_data[\"besselli\"][:,0]- params[\"trigger_time\"], model_time, model_mag)"
   ]
  },
  {
   "cell_type": "code",
   "execution_count": 37,
   "id": "b24a7742",
   "metadata": {},
   "outputs": [
    {
     "data": {
      "image/png": "[encoded data removed]",
      "text/plain": [
       "<Figure size 640x480 with 1 Axes>"
      ]
     },
     "metadata": {},
     "output_type": "display_data"
    }
   ],
   "source": [
    "plt.plot(model_time, model_mag)\n",
    "plt.plot(nmma_data[\"besselli\"][:,0]- params[\"trigger_time\"], est_mag)\n",
    "\n",
    "plt.plot(nmma_data[\"besselli\"][:,0]- params[\"trigger_time\"], np.array([11.313233, 11.466646, 12.370779, 13.70109 , 15.911467, 16.197222,\n",
    "       17.173655, 17.70843 , 17.818977, 18.320227, 19.641937, 19.95587 ,\n",
    "       21.114216, 21.889973, 24.448864, 25.852394, 26.452423, 26.55966 ]), color=\"red\")\n",
    "\n",
    "plt.scatter(fiesta_data[\"besselli\"][:,0] - params[\"trigger_time\"], fiesta_data[\"besselli\"][:,1], color=\"red\")\n",
    "\n",
    "plt.xscale(\"log\")"
   ]
  },
  {
   "cell_type": "code",
   "execution_count": null,
   "id": "3c2327cc",
   "metadata": {},
   "outputs": [],
   "source": [
    "def autocomplete_data(interp_points, ref_points, ref_data, extrapolate='linear', ref_value=np.nan):\n",
    "    \"\"\"\n",
    "    Interpolates and extrapolates reference data to a 1-D array of arguments. This can be wide off!\n",
    "    This basically extends np.interp to ignore nans and provide simple extrapolations. \n",
    "    \"\"\"\n",
    "    \n",
    "    ii = np.where(np.isfinite(ref_data))[0]\n",
    "    if len(ii) < 2:\n",
    "        return np.full_like(interp_points, ref_value)\n",
    "    \n",
    "    fin_ref= np.asarray(ref_points)[ii]\n",
    "    fin_data=np.asarray(ref_data)[ii]\n",
    "    interp_points=np.atleast_1d(interp_points)\n",
    "\n",
    "    if isinstance(extrapolate, (float , int)):\n",
    "        interp_data = np.interp(interp_points, fin_ref, fin_data,\n",
    "                                 left=extrapolate, right=extrapolate)\n",
    "      \n",
    "    elif isinstance(extrapolate, str):\n",
    "        if extrapolate=='spline':\n",
    "            spline = interp.UnivariateSpline(fin_ref, fin_data, s=ref_value)\n",
    "            interp_data = spline(interp_points)\n",
    "\n",
    "        if extrapolate=='linear':\n",
    "            interp_data = np.interp(interp_points, fin_ref, fin_data)\n",
    "            x0, x1, xm, xn = fin_ref[ [0,1,-2,-1]]\n",
    "            y0, y1, ym, yn = fin_data[[0,1,-2,-1]]\n",
    "            lower_extrap_args= np.argwhere(interp_points<x0)\n",
    "            interp_data[lower_extrap_args] = y0 + (y1-y0)/(x1-x0)*(interp_points[lower_extrap_args]-x0)\n",
    "            upper_extrap_args = np.argwhere(interp_points>xn)\n",
    "            interp_data[upper_extrap_args] = yn + (yn-ym)/(xn-xm)*(interp_points[upper_extrap_args]-xn)\n",
    "        ## TODO Allow more sophisticated treatment of extrapolation\n",
    "    \n",
    "    else:\n",
    "        interp_data = np.interp(interp_points, fin_ref, fin_data,\n",
    "                                 left=extrapolate[0], right=extrapolate[-1])   \n",
    "    return interp_data"
   ]
  },
  {
   "cell_type": "code",
   "execution_count": 74,
   "id": "5e60ba68",
   "metadata": {},
   "outputs": [],
   "source": [
    "fiesta_t, fiesta_mag = model.predict(params)\n",
    "est_mag2 = np.interp(nmma_data[\"besselli\"][:,0]- params[\"trigger_time\"], fiesta_t, fiesta_mag[\"besselli\"]) #autocomplete_data(nmma_data[\"besselli\"][:,0]- params[\"trigger_time\"], model_time, model_mag)"
   ]
  },
  {
   "cell_type": "code",
   "execution_count": 62,
   "id": "5e7024e0",
   "metadata": {},
   "outputs": [
    {
     "data": {
      "text/plain": [
       "array([1.0000e-02, 1.1000e-01, 2.1000e-01, ..., 1.9971e+02, 1.9981e+02,\n",
       "       1.9991e+02])"
      ]
     },
     "execution_count": 62,
     "metadata": {},
     "output_type": "execute_result"
    }
   ],
   "source": [
    "model_time"
   ]
  },
  {
   "cell_type": "code",
   "execution_count": 61,
   "id": "1aa59f45",
   "metadata": {},
   "outputs": [
    {
     "data": {
      "text/plain": [
       "array([2.78510301e-02, 3.14668287e-02, 6.42917477e-02, 1.87551389e-01,\n",
       "       1.08925013e+00, 1.37281257e+00, 2.98243431e+00, 4.12275696e+00,\n",
       "       4.38751632e+00, 5.85827389e+00, 1.39130926e+01, 1.65666032e+01,\n",
       "       2.87785843e+01, 4.00604523e+01, 8.78875412e+01, 1.30474029e+02,\n",
       "       1.54771801e+02, 1.59714297e+02])"
      ]
     },
     "execution_count": 61,
     "metadata": {},
     "output_type": "execute_result"
    }
   ],
   "source": [
    "nmma_data[\"besselli\"][:,0]- params[\"trigger_time\"]"
   ]
  },
  {
   "cell_type": "code",
   "execution_count": 81,
   "id": "19aa71af",
   "metadata": {},
   "outputs": [
    {
     "data": {
      "text/plain": [
       "(0.01, 0.2)"
      ]
     },
     "execution_count": 81,
     "metadata": {},
     "output_type": "execute_result"
    },
    {
     "data": {
      "image/png": "[encoded data removed]",
      "text/plain": [
       "<Figure size 640x480 with 1 Axes>"
      ]
     },
     "metadata": {},
     "output_type": "display_data"
    }
   ],
   "source": [
    "plt.scatter(nmma_data[\"besselli\"][:,0]- params[\"trigger_time\"], est_mag, color=\"blue\")\n",
    "plt.scatter(nmma_data[\"besselli\"][:,0]- params[\"trigger_time\"], est_mag2, color=\"red\")\n",
    "\n",
    "\n",
    "plt.scatter(model_time, model_mag, color=\"blue\", marker=\"s\")\n",
    "plt.scatter(fiesta_t, fiesta_mag[\"besselli\"], color=\"red\", marker=\"s\", alpha=0.2)\n",
    "\n",
    "plt.xlim(1e-2, 2e-1)"
   ]
  },
  {
   "cell_type": "code",
   "execution_count": null,
   "id": "0d1f94c8",
   "metadata": {},
   "outputs": [],
   "source": []
  }
 ],
 "metadata": {
  "kernelspec": {
   "display_name": "nmma_x_fiesta",
   "language": "python",
   "name": "python3"
  },
  "language_info": {
   "codemirror_mode": {
    "name": "ipython",
    "version": 3
   },
   "file_extension": ".py",
   "mimetype": "text/x-python",
   "name": "python",
   "nbconvert_exporter": "python",
   "pygments_lexer": "ipython3",
   "version": "3.11.11"
  }
 },
 "nbformat": 4,
 "nbformat_minor": 5
}
